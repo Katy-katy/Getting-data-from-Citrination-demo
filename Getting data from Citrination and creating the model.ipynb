{
 "cells": [
  {
   "cell_type": "markdown",
   "metadata": {},
   "source": [
    "# Getting data from Citrination"
   ]
  },
  {
   "cell_type": "code",
   "execution_count": 325,
   "metadata": {},
   "outputs": [],
   "source": [
    "from citrination_client import CitrinationClient\n",
    "from citrination_client import PifQuery\n",
    "from pypif.pif import dumps\n",
    "import json \n",
    "import pandas as pd\n",
    "import numpy as np\n",
    "import warnings\n",
    "warnings.filterwarnings(\"ignore\")\n",
    "import pickle"
   ]
  },
  {
   "cell_type": "code",
   "execution_count": 103,
   "metadata": {},
   "outputs": [],
   "source": [
    "with open(\"citrination_api_key_ssrl.txt\", \"r\") as g: \n",
    "    api_key = g.readline()"
   ]
  },
  {
   "cell_type": "code",
   "execution_count": 106,
   "metadata": {},
   "outputs": [],
   "source": [
    "a_key = api_key.strip()"
   ]
  },
  {
   "cell_type": "code",
   "execution_count": 107,
   "metadata": {
    "collapsed": true
   },
   "outputs": [],
   "source": [
    "client = CitrinationClient(site='https://slac.citrination.com',api_key=a_key ) "
   ]
  },
  {
   "cell_type": "code",
   "execution_count": 260,
   "metadata": {
    "collapsed": true
   },
   "outputs": [],
   "source": [
    "list_of_datasets = [1,15,16]"
   ]
  },
  {
   "cell_type": "code",
   "execution_count": 307,
   "metadata": {
    "collapsed": true
   },
   "outputs": [],
   "source": [
    "def get_data_from_Citrination(client, dataset_id_list):\n",
    "    all_samples_names = [] # list of all id only - we can use it for random access\n",
    "    data = {} # dict where keys are ids of samples\n",
    "    for dataset in dataset_id_list:\n",
    "        query_dataset = PifQuery(include_datasets=[dataset])\n",
    "        query_result = client.search(query_dataset)\n",
    "        pifs = [x.system for x in query_result.hits]\n",
    "        for line in pifs:\n",
    "            my_str = dumps(line)\n",
    "            obj = json.loads(my_str) # to transform the string to dictionary\n",
    "            for pr in obj['properties']:\n",
    "                if pr['name'] == 'SAXS intensity':\n",
    "                    q_list_of_dic = pr['conditions'][0]['scalars'] # q\n",
    "                    q_list = []\n",
    "                    for i in q_list_of_dic:\n",
    "                        for k, v in i.items():\n",
    "                            q_list.append(v)\n",
    "                    I_list_of_dic = pr['scalars']# I\n",
    "                    I_list = []\n",
    "                    for i in I_list_of_dic:\n",
    "                        for k, v in i.items():\n",
    "                            I_list.append(v)\n",
    "                    if (len(q_list) != 560 or len(I_list) != 560):\n",
    "                        continue\n",
    "                    sample_id = \"set_\" + str(dataset) + \"_\" + obj['uid']\n",
    "                    all_samples_names.append(sample_id)\n",
    "                    df = pd.DataFrame.from_dict({'q': q_list, 'I' : I_list})\n",
    "                    df = df.astype(float)\n",
    "                    data[sample_id] = df\n",
    "    return all_samples_names, data"
   ]
  },
  {
   "cell_type": "code",
   "execution_count": 314,
   "metadata": {
    "collapsed": true
   },
   "outputs": [],
   "source": [
    "def extract_features(df, name):\n",
    "    features = []\n",
    "    q = np.array(df['q'])\n",
    "    I = np.array(df['I'])\n",
    "    \n",
    "    idxmax = np.argmax(I)\n",
    "    Imax = I[idxmax]\n",
    "    q_Imax = q[idxmax]\n",
    "    \n",
    "    idxmin = np.argmin(I)\n",
    "    Imin = I[idxmin]\n",
    "    Irange = Imax - Imin\n",
    "    Imean = np.mean(I)\n",
    "    Imax_over_Imean = float(Imax)/float(Imean)\n",
    "    \n",
    "    idx_around_max = ((q > 0.9*q_Imax) & (q < 1.1*q_Imax))\n",
    "    Imean_around_max = np.mean(I[idx_around_max])\n",
    "    Imax_over_Imean_local = Imax / Imean_around_max\n",
    "    \n",
    "    ### fluctuation analysis\n",
    "    # array of the difference between neighboring points:\n",
    "    nn_diff = I[1:]-I[:-1]\n",
    "    # keep indices where the sign of this difference changes.\n",
    "    # also keep first index\n",
    "    nn_diff_prod = nn_diff[1:]*nn_diff[:-1]\n",
    "    idx_keep = np.hstack((np.array([True]),nn_diff_prod<0))\n",
    "    fluc = np.sum(np.abs(nn_diff[idx_keep]))\n",
    "    fluctuation_strength = fluc/Imean\n",
    "    \n",
    "    I_sum = np.sum(I)\n",
    "    low_q_ratio = np.sum(I[(q<0.4)])/I_sum\n",
    "    high_q_ratio = np.sum(I[(q>=0.4)])/I_sum\n",
    "    \n",
    "    ### curve shape analysis\n",
    "    lowq_idx = q<0.1\n",
    "    highq_idx = q>0.4\n",
    "    lowq = q[lowq_idx]\n",
    "    highq = q[highq_idx]\n",
    "    I_lowq = I[lowq_idx]\n",
    "    I_highq = I[highq_idx]\n",
    "    I_lowq_mean = np.mean(I_lowq)\n",
    "    I_highq_mean = np.mean(I_highq)\n",
    "    Imax_over_Ilowq = float(Imax)/I_lowq_mean\n",
    "    Ilowq_over_Ihighq = I_lowq_mean/I_highq_mean\n",
    "    Imax_over_Ihighq = float(Imax)/I_highq_mean\n",
    "    \n",
    "    bin_strengths = np.zeros(20)\n",
    "    for i in range(20):\n",
    "            qmini, qmaxi = i*0.05, (i+1)*0.05\n",
    "            idxi = ((q>=qmini) & (q<qmaxi))\n",
    "            if any(idxi):\n",
    "                qi = q[ idxi ]\n",
    "                Ii = I[ idxi ]/Imax # /Imax added\n",
    "                dqi = qi[1:]-qi[:-1]\n",
    "                Ii = (Ii[1:]+Ii[:-1])/2\n",
    "                bin_strengths[i] = np.sum(np.log(Ii) * dqi) / (qi[-1]-qi[0])\n",
    "  \n",
    "\n",
    "    features.append(name)\n",
    "    features.append(q_Imax)\n",
    "    features.append(Imax_over_Imean)\n",
    "    features.append(Imax_over_Imean_local)\n",
    "    features.append(fluctuation_strength)\n",
    "    features.append(low_q_ratio)\n",
    "    features.append(high_q_ratio)\n",
    "    features.append(Imax_over_Ilowq)\n",
    "    features.append(Imax_over_Ihighq)\n",
    "    features.append(Ilowq_over_Ihighq)\n",
    "    \n",
    "    for s in bin_strengths:\n",
    "        features.append(s)\n",
    "                  \n",
    "    return tuple(features)"
   ]
  },
  {
   "cell_type": "code",
   "execution_count": 324,
   "metadata": {
    "collapsed": true
   },
   "outputs": [],
   "source": [
    "def create_data_frame(data, names):\n",
    "    data_set = [] \n",
    "\n",
    "    columns = ['name', 'q_Imax', 'Imax_over_Imean','Imax_over_Imean_local', 'fluctuation_strength', 'low_q_ratio',\n",
    "                 'high_q_ratio', 'Imax_over_Ilowq','Imax_over_Ihighq', 'Ilowq_over_Ihighq', 'b_s_1', 'b_s_2','b_s_3',\n",
    "                 'b_s_4', 'b_s_5', 'b_s_6', 'b_s_7', 'b_s_8', 'b_s_9', 'b_s_10','b_s_11', 'b_s_12','b_s_13',\n",
    "                 'b_s_14', 'b_s_15', 'b_s_16', 'b_s_17', 'b_s_18', 'b_s_19', 'b_s_20' ]\n",
    "    for f in names:\n",
    "        df = data[f]\n",
    "        data_set.append(extract_features(df, f))\n",
    "    data_frame = pd.DataFrame.from_records(data_set, columns=columns)\n",
    "    return data_frame"
   ]
  },
  {
   "cell_type": "markdown",
   "metadata": {},
   "source": [
    "## get_data_and_create_df(client, dataset_id_list)"
   ]
  },
  {
   "cell_type": "code",
   "execution_count": 326,
   "metadata": {
    "collapsed": true
   },
   "outputs": [],
   "source": [
    "from sklearn.cluster import MiniBatchKMeans\n",
    "from sklearn import preprocessing\n",
    "\n",
    "def get_data_and_create_df(client, dataset_id_list):\n",
    "    names, data = get_data_from_Citrination(client, dataset_id_list)\n",
    "    df = create_data_frame(data, names)\n",
    "    \n",
    "    scaler = preprocessing.StandardScaler()\n",
    "    scaler.fit(df[features])\n",
    "    # put my best unsupervised model here\n",
    "    # for example:\n",
    "    # clusterer = MiniBatchKMeans(n_clusters=n_clusters, random_state=10)\n",
    "    # clusterer.fit(scaler.transform(df[features]))\n",
    "    #model.to_pickle('unsupervised_model.pkl')"
   ]
  },
  {
   "cell_type": "code",
   "execution_count": null,
   "metadata": {
    "collapsed": true
   },
   "outputs": [],
   "source": [
    "# it is a temporary function for testing\n",
    "def create_and_save_model(client, dataset_id_list):\n",
    "    names, data = get_data_from_Citrination(client, dataset_id_list)\n",
    "    df = create_data_frame(data, names)\n",
    "    return df"
   ]
  },
  {
   "cell_type": "code",
   "execution_count": 327,
   "metadata": {},
   "outputs": [],
   "source": [
    "data_frame = get_data_and_create_df(client, list_of_datasets)"
   ]
  },
  {
   "cell_type": "code",
   "execution_count": 328,
   "metadata": {},
   "outputs": [
    {
     "data": {
      "text/html": [
       "<div>\n",
       "<style>\n",
       "    .dataframe thead tr:only-child th {\n",
       "        text-align: right;\n",
       "    }\n",
       "\n",
       "    .dataframe thead th {\n",
       "        text-align: left;\n",
       "    }\n",
       "\n",
       "    .dataframe tbody tr th {\n",
       "        vertical-align: top;\n",
       "    }\n",
       "</style>\n",
       "<table border=\"1\" class=\"dataframe\">\n",
       "  <thead>\n",
       "    <tr style=\"text-align: right;\">\n",
       "      <th></th>\n",
       "      <th>name</th>\n",
       "      <th>q_Imax</th>\n",
       "      <th>Imax_over_Imean</th>\n",
       "      <th>Imax_over_Imean_local</th>\n",
       "      <th>fluctuation_strength</th>\n",
       "      <th>low_q_ratio</th>\n",
       "      <th>high_q_ratio</th>\n",
       "      <th>Imax_over_Ilowq</th>\n",
       "      <th>Imax_over_Ihighq</th>\n",
       "      <th>Ilowq_over_Ihighq</th>\n",
       "      <th>...</th>\n",
       "      <th>b_s_11</th>\n",
       "      <th>b_s_12</th>\n",
       "      <th>b_s_13</th>\n",
       "      <th>b_s_14</th>\n",
       "      <th>b_s_15</th>\n",
       "      <th>b_s_16</th>\n",
       "      <th>b_s_17</th>\n",
       "      <th>b_s_18</th>\n",
       "      <th>b_s_19</th>\n",
       "      <th>b_s_20</th>\n",
       "    </tr>\n",
       "  </thead>\n",
       "  <tbody>\n",
       "    <tr>\n",
       "      <th>0</th>\n",
       "      <td>set_1_R1_1479582658</td>\n",
       "      <td>0.489</td>\n",
       "      <td>1.343762</td>\n",
       "      <td>1.302965</td>\n",
       "      <td>14.996414</td>\n",
       "      <td>0.633562</td>\n",
       "      <td>0.366438</td>\n",
       "      <td>1.725431</td>\n",
       "      <td>1.309675</td>\n",
       "      <td>0.759042</td>\n",
       "      <td>...</td>\n",
       "      <td>-0.293660</td>\n",
       "      <td>-0.332603</td>\n",
       "      <td>0.0</td>\n",
       "      <td>0.0</td>\n",
       "      <td>0.0</td>\n",
       "      <td>0.0</td>\n",
       "      <td>0.0</td>\n",
       "      <td>0.0</td>\n",
       "      <td>0.0</td>\n",
       "      <td>0.0</td>\n",
       "    </tr>\n",
       "    <tr>\n",
       "      <th>1</th>\n",
       "      <td>set_1_R1_1479582669</td>\n",
       "      <td>0.275</td>\n",
       "      <td>1.234448</td>\n",
       "      <td>1.133807</td>\n",
       "      <td>17.833578</td>\n",
       "      <td>0.634872</td>\n",
       "      <td>0.365128</td>\n",
       "      <td>1.609803</td>\n",
       "      <td>1.207450</td>\n",
       "      <td>0.750061</td>\n",
       "      <td>...</td>\n",
       "      <td>-0.200915</td>\n",
       "      <td>-0.247893</td>\n",
       "      <td>0.0</td>\n",
       "      <td>0.0</td>\n",
       "      <td>0.0</td>\n",
       "      <td>0.0</td>\n",
       "      <td>0.0</td>\n",
       "      <td>0.0</td>\n",
       "      <td>0.0</td>\n",
       "      <td>0.0</td>\n",
       "    </tr>\n",
       "    <tr>\n",
       "      <th>2</th>\n",
       "      <td>set_1_R1_1479582681</td>\n",
       "      <td>0.103</td>\n",
       "      <td>1.265933</td>\n",
       "      <td>1.338246</td>\n",
       "      <td>17.744758</td>\n",
       "      <td>0.636601</td>\n",
       "      <td>0.363399</td>\n",
       "      <td>1.630249</td>\n",
       "      <td>1.244138</td>\n",
       "      <td>0.763158</td>\n",
       "      <td>...</td>\n",
       "      <td>-0.218888</td>\n",
       "      <td>-0.291770</td>\n",
       "      <td>0.0</td>\n",
       "      <td>0.0</td>\n",
       "      <td>0.0</td>\n",
       "      <td>0.0</td>\n",
       "      <td>0.0</td>\n",
       "      <td>0.0</td>\n",
       "      <td>0.0</td>\n",
       "      <td>0.0</td>\n",
       "    </tr>\n",
       "    <tr>\n",
       "      <th>3</th>\n",
       "      <td>set_1_R1_1479582692</td>\n",
       "      <td>0.447</td>\n",
       "      <td>1.233866</td>\n",
       "      <td>1.161025</td>\n",
       "      <td>20.241095</td>\n",
       "      <td>0.634705</td>\n",
       "      <td>0.365295</td>\n",
       "      <td>1.615438</td>\n",
       "      <td>1.206331</td>\n",
       "      <td>0.746752</td>\n",
       "      <td>...</td>\n",
       "      <td>-0.191737</td>\n",
       "      <td>-0.271467</td>\n",
       "      <td>0.0</td>\n",
       "      <td>0.0</td>\n",
       "      <td>0.0</td>\n",
       "      <td>0.0</td>\n",
       "      <td>0.0</td>\n",
       "      <td>0.0</td>\n",
       "      <td>0.0</td>\n",
       "      <td>0.0</td>\n",
       "    </tr>\n",
       "    <tr>\n",
       "      <th>4</th>\n",
       "      <td>set_1_R1_1479582703</td>\n",
       "      <td>0.187</td>\n",
       "      <td>1.249696</td>\n",
       "      <td>1.234976</td>\n",
       "      <td>17.060467</td>\n",
       "      <td>0.635930</td>\n",
       "      <td>0.364070</td>\n",
       "      <td>1.590840</td>\n",
       "      <td>1.225917</td>\n",
       "      <td>0.770610</td>\n",
       "      <td>...</td>\n",
       "      <td>-0.205632</td>\n",
       "      <td>-0.275274</td>\n",
       "      <td>0.0</td>\n",
       "      <td>0.0</td>\n",
       "      <td>0.0</td>\n",
       "      <td>0.0</td>\n",
       "      <td>0.0</td>\n",
       "      <td>0.0</td>\n",
       "      <td>0.0</td>\n",
       "      <td>0.0</td>\n",
       "    </tr>\n",
       "  </tbody>\n",
       "</table>\n",
       "<p>5 rows × 30 columns</p>\n",
       "</div>"
      ],
      "text/plain": [
       "                  name  q_Imax  Imax_over_Imean  Imax_over_Imean_local  \\\n",
       "0  set_1_R1_1479582658   0.489         1.343762               1.302965   \n",
       "1  set_1_R1_1479582669   0.275         1.234448               1.133807   \n",
       "2  set_1_R1_1479582681   0.103         1.265933               1.338246   \n",
       "3  set_1_R1_1479582692   0.447         1.233866               1.161025   \n",
       "4  set_1_R1_1479582703   0.187         1.249696               1.234976   \n",
       "\n",
       "   fluctuation_strength  low_q_ratio  high_q_ratio  Imax_over_Ilowq  \\\n",
       "0             14.996414     0.633562      0.366438         1.725431   \n",
       "1             17.833578     0.634872      0.365128         1.609803   \n",
       "2             17.744758     0.636601      0.363399         1.630249   \n",
       "3             20.241095     0.634705      0.365295         1.615438   \n",
       "4             17.060467     0.635930      0.364070         1.590840   \n",
       "\n",
       "   Imax_over_Ihighq  Ilowq_over_Ihighq   ...      b_s_11    b_s_12  b_s_13  \\\n",
       "0          1.309675           0.759042   ...   -0.293660 -0.332603     0.0   \n",
       "1          1.207450           0.750061   ...   -0.200915 -0.247893     0.0   \n",
       "2          1.244138           0.763158   ...   -0.218888 -0.291770     0.0   \n",
       "3          1.206331           0.746752   ...   -0.191737 -0.271467     0.0   \n",
       "4          1.225917           0.770610   ...   -0.205632 -0.275274     0.0   \n",
       "\n",
       "   b_s_14  b_s_15  b_s_16  b_s_17  b_s_18  b_s_19  b_s_20  \n",
       "0     0.0     0.0     0.0     0.0     0.0     0.0     0.0  \n",
       "1     0.0     0.0     0.0     0.0     0.0     0.0     0.0  \n",
       "2     0.0     0.0     0.0     0.0     0.0     0.0     0.0  \n",
       "3     0.0     0.0     0.0     0.0     0.0     0.0     0.0  \n",
       "4     0.0     0.0     0.0     0.0     0.0     0.0     0.0  \n",
       "\n",
       "[5 rows x 30 columns]"
      ]
     },
     "execution_count": 328,
     "metadata": {},
     "output_type": "execute_result"
    }
   ],
   "source": [
    "data_frame.head()"
   ]
  },
  {
   "cell_type": "code",
   "execution_count": 329,
   "metadata": {},
   "outputs": [
    {
     "data": {
      "text/plain": [
       "(2170, 30)"
      ]
     },
     "execution_count": 329,
     "metadata": {},
     "output_type": "execute_result"
    }
   ],
   "source": [
    "data_frame.shape"
   ]
  },
  {
   "cell_type": "code",
   "execution_count": 331,
   "metadata": {
    "collapsed": true
   },
   "outputs": [],
   "source": [
    "#save the data frame\n",
    "data_frame.to_pickle('df_for_clustering.pkl')"
   ]
  }
 ],
 "metadata": {
  "kernelspec": {
   "display_name": "Python 3",
   "language": "python",
   "name": "python3"
  },
  "language_info": {
   "codemirror_mode": {
    "name": "ipython",
    "version": 3
   },
   "file_extension": ".py",
   "mimetype": "text/x-python",
   "name": "python",
   "nbconvert_exporter": "python",
   "pygments_lexer": "ipython3",
   "version": "3.6.1"
  }
 },
 "nbformat": 4,
 "nbformat_minor": 2
}
